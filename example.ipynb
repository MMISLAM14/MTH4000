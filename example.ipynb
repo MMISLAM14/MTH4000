{
 "cells": [
  {
   "cell_type": "code",
   "execution_count": 1,
   "id": "0a4786bb-5cbc-47a6-9334-78eebc836edf",
   "metadata": {},
   "outputs": [
    {
     "name": "stdout",
     "output_type": "stream",
     "text": [
      "Hello World\n"
     ]
    }
   ],
   "source": [
    "print(\"Hello World\")"
   ]
  },
  {
   "cell_type": "code",
   "execution_count": null,
   "id": "b5ebc45d-a279-47bd-9e6c-acea206293a6",
   "metadata": {},
   "outputs": [],
   "source": [
    "def program(r):\n",
    "    if r>2:\n",
    "        print('Hurrayyy')\n",
    "    else:\n",
    "        print(\"What a loser)\")\n",
    "\n",
    "\n"
   ]
  },
  {
   "cell_type": "code",
   "execution_count": null,
   "id": "04aced51",
   "metadata": {},
   "outputs": [],
   "source": []
  }
 ],
 "metadata": {
  "kernelspec": {
   "display_name": "Python 3 (ipykernel)",
   "language": "python",
   "name": "python3"
  },
  "language_info": {
   "codemirror_mode": {
    "name": "ipython",
    "version": 3
   },
   "file_extension": ".py",
   "mimetype": "text/x-python",
   "name": "python",
   "nbconvert_exporter": "python",
   "pygments_lexer": "ipython3",
   "version": "3.11.9"
  }
 },
 "nbformat": 4,
 "nbformat_minor": 5
}
